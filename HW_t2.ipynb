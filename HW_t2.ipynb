{
 "cells": [
  {
   "cell_type": "markdown",
   "metadata": {},
   "source": [
    "# Assignment 2   -- Group 14"
   ]
  },
  {
   "cell_type": "code",
   "execution_count": 1,
   "metadata": {},
   "outputs": [],
   "source": [
    "import pandas as pd\n",
    "import statsmodels.api as sm\n",
    "import math \n",
    "import statistics as st\n",
    "import numpy as np"
   ]
  },
  {
   "cell_type": "markdown",
   "metadata": {},
   "source": [
    "## Preprocess data"
   ]
  },
  {
   "cell_type": "code",
   "execution_count": 2,
   "metadata": {},
   "outputs": [],
   "source": [
    "return_df = pd.read_excel(r\"C:\\Users\\51528\\Desktop\\Big Data in Finance\\Assignment2\\Returns_Clean.xlsx\")\n",
    "flow_df = pd.read_excel(r\"C:\\Users\\51528\\Desktop\\Big Data in Finance\\Assignment2\\Flows_Clean.xlsx\")"
   ]
  },
  {
   "cell_type": "code",
   "execution_count": 3,
   "metadata": {},
   "outputs": [
    {
     "data": {
      "text/html": [
       "<div>\n",
       "<style scoped>\n",
       "    .dataframe tbody tr th:only-of-type {\n",
       "        vertical-align: middle;\n",
       "    }\n",
       "\n",
       "    .dataframe tbody tr th {\n",
       "        vertical-align: top;\n",
       "    }\n",
       "\n",
       "    .dataframe thead th {\n",
       "        text-align: right;\n",
       "    }\n",
       "</style>\n",
       "<table border=\"1\" class=\"dataframe\">\n",
       "  <thead>\n",
       "    <tr style=\"text-align: right;\">\n",
       "      <th></th>\n",
       "      <th>Dates</th>\n",
       "      <th>50286</th>\n",
       "      <th>91804</th>\n",
       "      <th>10401</th>\n",
       "      <th>58501</th>\n",
       "      <th>60097</th>\n",
       "      <th>10363</th>\n",
       "      <th>41726</th>\n",
       "      <th>25080</th>\n",
       "      <th>30402</th>\n",
       "      <th>...</th>\n",
       "      <th>65365</th>\n",
       "      <th>27748</th>\n",
       "      <th>19350</th>\n",
       "      <th>75823</th>\n",
       "      <th>22840</th>\n",
       "      <th>17750</th>\n",
       "      <th>64557</th>\n",
       "      <th>50278</th>\n",
       "      <th>15553</th>\n",
       "      <th>88832</th>\n",
       "    </tr>\n",
       "  </thead>\n",
       "  <tbody>\n",
       "    <tr>\n",
       "      <td>0</td>\n",
       "      <td>19930401</td>\n",
       "      <td>1.083253</td>\n",
       "      <td>-5.699942</td>\n",
       "      <td>1.194241</td>\n",
       "      <td>4.837066</td>\n",
       "      <td>-8.423100</td>\n",
       "      <td>-1.305991</td>\n",
       "      <td>1.299232</td>\n",
       "      <td>-0.467033</td>\n",
       "      <td>0.000000</td>\n",
       "      <td>...</td>\n",
       "      <td>0.416478</td>\n",
       "      <td>0.904076</td>\n",
       "      <td>3.731669</td>\n",
       "      <td>-0.774561</td>\n",
       "      <td>-0.257508</td>\n",
       "      <td>3.162328</td>\n",
       "      <td>-0.047864</td>\n",
       "      <td>0.623058</td>\n",
       "      <td>0.329819</td>\n",
       "      <td>0.232555</td>\n",
       "    </tr>\n",
       "    <tr>\n",
       "      <td>1</td>\n",
       "      <td>19930402</td>\n",
       "      <td>1.420868</td>\n",
       "      <td>8.951401</td>\n",
       "      <td>-1.106500</td>\n",
       "      <td>4.365623</td>\n",
       "      <td>-11.960179</td>\n",
       "      <td>1.261436</td>\n",
       "      <td>0.145421</td>\n",
       "      <td>0.625825</td>\n",
       "      <td>-2.529088</td>\n",
       "      <td>...</td>\n",
       "      <td>7.658829</td>\n",
       "      <td>0.394204</td>\n",
       "      <td>4.965978</td>\n",
       "      <td>-1.697999</td>\n",
       "      <td>-5.026532</td>\n",
       "      <td>-5.289657</td>\n",
       "      <td>2.423657</td>\n",
       "      <td>-10.043329</td>\n",
       "      <td>4.213098</td>\n",
       "      <td>-0.854005</td>\n",
       "    </tr>\n",
       "    <tr>\n",
       "      <td>2</td>\n",
       "      <td>19930405</td>\n",
       "      <td>-1.720117</td>\n",
       "      <td>-5.216893</td>\n",
       "      <td>-1.388985</td>\n",
       "      <td>0.516303</td>\n",
       "      <td>-16.809023</td>\n",
       "      <td>0.610771</td>\n",
       "      <td>-3.277465</td>\n",
       "      <td>0.595360</td>\n",
       "      <td>1.170176</td>\n",
       "      <td>...</td>\n",
       "      <td>0.340133</td>\n",
       "      <td>-1.597132</td>\n",
       "      <td>0.226364</td>\n",
       "      <td>-1.705865</td>\n",
       "      <td>-3.205529</td>\n",
       "      <td>-1.523400</td>\n",
       "      <td>0.293756</td>\n",
       "      <td>-1.155403</td>\n",
       "      <td>-0.594859</td>\n",
       "      <td>1.080668</td>\n",
       "    </tr>\n",
       "    <tr>\n",
       "      <td>3</td>\n",
       "      <td>19930406</td>\n",
       "      <td>-19.184283</td>\n",
       "      <td>-0.998393</td>\n",
       "      <td>0.645662</td>\n",
       "      <td>3.255778</td>\n",
       "      <td>-16.809023</td>\n",
       "      <td>1.372598</td>\n",
       "      <td>-0.205378</td>\n",
       "      <td>0.373627</td>\n",
       "      <td>0.531704</td>\n",
       "      <td>...</td>\n",
       "      <td>2.533133</td>\n",
       "      <td>-1.129123</td>\n",
       "      <td>-0.336779</td>\n",
       "      <td>-2.188710</td>\n",
       "      <td>-2.068314</td>\n",
       "      <td>2.333132</td>\n",
       "      <td>-1.148651</td>\n",
       "      <td>2.912813</td>\n",
       "      <td>0.501317</td>\n",
       "      <td>0.360467</td>\n",
       "    </tr>\n",
       "    <tr>\n",
       "      <td>4</td>\n",
       "      <td>19930407</td>\n",
       "      <td>-1.772440</td>\n",
       "      <td>-8.526801</td>\n",
       "      <td>2.737920</td>\n",
       "      <td>6.905926</td>\n",
       "      <td>-14.449892</td>\n",
       "      <td>0.101245</td>\n",
       "      <td>24.657138</td>\n",
       "      <td>0.046703</td>\n",
       "      <td>0.558868</td>\n",
       "      <td>...</td>\n",
       "      <td>-0.114119</td>\n",
       "      <td>-1.221991</td>\n",
       "      <td>6.340711</td>\n",
       "      <td>-0.011839</td>\n",
       "      <td>-6.358787</td>\n",
       "      <td>-2.466997</td>\n",
       "      <td>-0.485223</td>\n",
       "      <td>1.524124</td>\n",
       "      <td>0.556544</td>\n",
       "      <td>0.623206</td>\n",
       "    </tr>\n",
       "  </tbody>\n",
       "</table>\n",
       "<p>5 rows × 101 columns</p>\n",
       "</div>"
      ],
      "text/plain": [
       "      Dates      50286     91804     10401     58501      60097     10363  \\\n",
       "0  19930401   1.083253 -5.699942  1.194241  4.837066  -8.423100 -1.305991   \n",
       "1  19930402   1.420868  8.951401 -1.106500  4.365623 -11.960179  1.261436   \n",
       "2  19930405  -1.720117 -5.216893 -1.388985  0.516303 -16.809023  0.610771   \n",
       "3  19930406 -19.184283 -0.998393  0.645662  3.255778 -16.809023  1.372598   \n",
       "4  19930407  -1.772440 -8.526801  2.737920  6.905926 -14.449892  0.101245   \n",
       "\n",
       "       41726     25080     30402  ...     65365     27748     19350     75823  \\\n",
       "0   1.299232 -0.467033  0.000000  ...  0.416478  0.904076  3.731669 -0.774561   \n",
       "1   0.145421  0.625825 -2.529088  ...  7.658829  0.394204  4.965978 -1.697999   \n",
       "2  -3.277465  0.595360  1.170176  ...  0.340133 -1.597132  0.226364 -1.705865   \n",
       "3  -0.205378  0.373627  0.531704  ...  2.533133 -1.129123 -0.336779 -2.188710   \n",
       "4  24.657138  0.046703  0.558868  ... -0.114119 -1.221991  6.340711 -0.011839   \n",
       "\n",
       "      22840     17750     64557      50278     15553     88832  \n",
       "0 -0.257508  3.162328 -0.047864   0.623058  0.329819  0.232555  \n",
       "1 -5.026532 -5.289657  2.423657 -10.043329  4.213098 -0.854005  \n",
       "2 -3.205529 -1.523400  0.293756  -1.155403 -0.594859  1.080668  \n",
       "3 -2.068314  2.333132 -1.148651   2.912813  0.501317  0.360467  \n",
       "4 -6.358787 -2.466997 -0.485223   1.524124  0.556544  0.623206  \n",
       "\n",
       "[5 rows x 101 columns]"
      ]
     },
     "execution_count": 3,
     "metadata": {},
     "output_type": "execute_result"
    }
   ],
   "source": [
    "flow_df.head()"
   ]
  },
  {
   "cell_type": "code",
   "execution_count": 4,
   "metadata": {},
   "outputs": [],
   "source": [
    "return_df.columns = return_df.columns.astype(str)\n",
    "flow_df.columns = flow_df.columns.astype(str)\n",
    "tickers = return_df.columns[1:]\n",
    "return_df.columns = [\"Dates\"] + [i+\" return\" for i in return_df.columns[1:]]\n",
    "flow_df.columns = [\"Dates\"] + [i+\" flow\" for i in flow_df.columns[1:]]"
   ]
  },
  {
   "cell_type": "code",
   "execution_count": 5,
   "metadata": {},
   "outputs": [
    {
     "name": "stdout",
     "output_type": "stream",
     "text": [
      "Index(['Dates', '50286 return', '91804 return', '10401 return', '58501 return',\n",
      "       '60097 return', '10363 return', '41726 return', '25080 return',\n",
      "       '30402 return',\n",
      "       ...\n",
      "       '65365 return', '27748 return', '19350 return', '75823 return',\n",
      "       '22840 return', '17750 return', '64557 return', '50278 return',\n",
      "       '15553 return', '88832 return'],\n",
      "      dtype='object', length=101)\n",
      "Index(['Dates', '50286 flow', '91804 flow', '10401 flow', '58501 flow',\n",
      "       '60097 flow', '10363 flow', '41726 flow', '25080 flow', '30402 flow',\n",
      "       ...\n",
      "       '65365 flow', '27748 flow', '19350 flow', '75823 flow', '22840 flow',\n",
      "       '17750 flow', '64557 flow', '50278 flow', '15553 flow', '88832 flow'],\n",
      "      dtype='object', length=101)\n"
     ]
    }
   ],
   "source": [
    "print(return_df.columns)\n",
    "print(flow_df.columns)"
   ]
  },
  {
   "cell_type": "code",
   "execution_count": 5,
   "metadata": {},
   "outputs": [
    {
     "data": {
      "text/html": [
       "<div>\n",
       "<style scoped>\n",
       "    .dataframe tbody tr th:only-of-type {\n",
       "        vertical-align: middle;\n",
       "    }\n",
       "\n",
       "    .dataframe tbody tr th {\n",
       "        vertical-align: top;\n",
       "    }\n",
       "\n",
       "    .dataframe thead th {\n",
       "        text-align: right;\n",
       "    }\n",
       "</style>\n",
       "<table border=\"1\" class=\"dataframe\">\n",
       "  <thead>\n",
       "    <tr style=\"text-align: right;\">\n",
       "      <th></th>\n",
       "      <th>Dates</th>\n",
       "      <th>50286 return</th>\n",
       "      <th>91804 return</th>\n",
       "      <th>10401 return</th>\n",
       "      <th>58501 return</th>\n",
       "      <th>60097 return</th>\n",
       "      <th>10363 return</th>\n",
       "      <th>41726 return</th>\n",
       "      <th>25080 return</th>\n",
       "      <th>30402 return</th>\n",
       "      <th>...</th>\n",
       "      <th>65365 flow</th>\n",
       "      <th>27748 flow</th>\n",
       "      <th>19350 flow</th>\n",
       "      <th>75823 flow</th>\n",
       "      <th>22840 flow</th>\n",
       "      <th>17750 flow</th>\n",
       "      <th>64557 flow</th>\n",
       "      <th>50278 flow</th>\n",
       "      <th>15553 flow</th>\n",
       "      <th>88832 flow</th>\n",
       "    </tr>\n",
       "  </thead>\n",
       "  <tbody>\n",
       "    <tr>\n",
       "      <td>0</td>\n",
       "      <td>19930401</td>\n",
       "      <td>0.004219</td>\n",
       "      <td>0.000000</td>\n",
       "      <td>0.004405</td>\n",
       "      <td>-0.041667</td>\n",
       "      <td>-0.052980</td>\n",
       "      <td>-0.010000</td>\n",
       "      <td>0.007092</td>\n",
       "      <td>0.000000</td>\n",
       "      <td>-0.009709</td>\n",
       "      <td>...</td>\n",
       "      <td>0.416478</td>\n",
       "      <td>0.904076</td>\n",
       "      <td>3.731669</td>\n",
       "      <td>-0.774561</td>\n",
       "      <td>-0.257508</td>\n",
       "      <td>3.162328</td>\n",
       "      <td>-0.047864</td>\n",
       "      <td>0.623058</td>\n",
       "      <td>0.329819</td>\n",
       "      <td>0.232555</td>\n",
       "    </tr>\n",
       "    <tr>\n",
       "      <td>1</td>\n",
       "      <td>19930402</td>\n",
       "      <td>-0.021008</td>\n",
       "      <td>-0.093023</td>\n",
       "      <td>-0.006579</td>\n",
       "      <td>0.021739</td>\n",
       "      <td>-0.050490</td>\n",
       "      <td>-0.050505</td>\n",
       "      <td>0.000000</td>\n",
       "      <td>0.100000</td>\n",
       "      <td>0.000000</td>\n",
       "      <td>...</td>\n",
       "      <td>7.658829</td>\n",
       "      <td>0.394204</td>\n",
       "      <td>4.965978</td>\n",
       "      <td>-1.697999</td>\n",
       "      <td>-5.026532</td>\n",
       "      <td>-5.289657</td>\n",
       "      <td>2.423657</td>\n",
       "      <td>-10.043329</td>\n",
       "      <td>4.213098</td>\n",
       "      <td>-0.854005</td>\n",
       "    </tr>\n",
       "    <tr>\n",
       "      <td>2</td>\n",
       "      <td>19930405</td>\n",
       "      <td>0.021459</td>\n",
       "      <td>0.025641</td>\n",
       "      <td>-0.008830</td>\n",
       "      <td>0.000000</td>\n",
       "      <td>-0.022140</td>\n",
       "      <td>-0.021277</td>\n",
       "      <td>-0.007042</td>\n",
       "      <td>-0.181818</td>\n",
       "      <td>-0.019608</td>\n",
       "      <td>...</td>\n",
       "      <td>0.340133</td>\n",
       "      <td>-1.597132</td>\n",
       "      <td>0.226364</td>\n",
       "      <td>-1.705865</td>\n",
       "      <td>-3.205529</td>\n",
       "      <td>-1.523400</td>\n",
       "      <td>0.293756</td>\n",
       "      <td>-1.155403</td>\n",
       "      <td>-0.594859</td>\n",
       "      <td>1.080668</td>\n",
       "    </tr>\n",
       "    <tr>\n",
       "      <td>3</td>\n",
       "      <td>19930406</td>\n",
       "      <td>-0.021008</td>\n",
       "      <td>-0.025000</td>\n",
       "      <td>0.022272</td>\n",
       "      <td>-0.042553</td>\n",
       "      <td>-0.052830</td>\n",
       "      <td>-0.021739</td>\n",
       "      <td>0.000000</td>\n",
       "      <td>0.111111</td>\n",
       "      <td>-0.010000</td>\n",
       "      <td>...</td>\n",
       "      <td>2.533133</td>\n",
       "      <td>-1.129123</td>\n",
       "      <td>-0.336779</td>\n",
       "      <td>-2.188710</td>\n",
       "      <td>-2.068314</td>\n",
       "      <td>2.333132</td>\n",
       "      <td>-1.148651</td>\n",
       "      <td>2.912813</td>\n",
       "      <td>0.501317</td>\n",
       "      <td>0.360467</td>\n",
       "    </tr>\n",
       "    <tr>\n",
       "      <td>4</td>\n",
       "      <td>19930407</td>\n",
       "      <td>0.008584</td>\n",
       "      <td>-0.025641</td>\n",
       "      <td>0.010893</td>\n",
       "      <td>0.000000</td>\n",
       "      <td>-0.043825</td>\n",
       "      <td>0.011111</td>\n",
       "      <td>0.000000</td>\n",
       "      <td>-0.100000</td>\n",
       "      <td>0.010101</td>\n",
       "      <td>...</td>\n",
       "      <td>-0.114119</td>\n",
       "      <td>-1.221991</td>\n",
       "      <td>6.340711</td>\n",
       "      <td>-0.011839</td>\n",
       "      <td>-6.358787</td>\n",
       "      <td>-2.466997</td>\n",
       "      <td>-0.485223</td>\n",
       "      <td>1.524124</td>\n",
       "      <td>0.556544</td>\n",
       "      <td>0.623206</td>\n",
       "    </tr>\n",
       "  </tbody>\n",
       "</table>\n",
       "<p>5 rows × 201 columns</p>\n",
       "</div>"
      ],
      "text/plain": [
       "      Dates  50286 return  91804 return  10401 return  58501 return  \\\n",
       "0  19930401      0.004219      0.000000      0.004405     -0.041667   \n",
       "1  19930402     -0.021008     -0.093023     -0.006579      0.021739   \n",
       "2  19930405      0.021459      0.025641     -0.008830      0.000000   \n",
       "3  19930406     -0.021008     -0.025000      0.022272     -0.042553   \n",
       "4  19930407      0.008584     -0.025641      0.010893      0.000000   \n",
       "\n",
       "   60097 return  10363 return  41726 return  25080 return  30402 return  ...  \\\n",
       "0     -0.052980     -0.010000      0.007092      0.000000     -0.009709  ...   \n",
       "1     -0.050490     -0.050505      0.000000      0.100000      0.000000  ...   \n",
       "2     -0.022140     -0.021277     -0.007042     -0.181818     -0.019608  ...   \n",
       "3     -0.052830     -0.021739      0.000000      0.111111     -0.010000  ...   \n",
       "4     -0.043825      0.011111      0.000000     -0.100000      0.010101  ...   \n",
       "\n",
       "   65365 flow  27748 flow  19350 flow  75823 flow  22840 flow  17750 flow  \\\n",
       "0    0.416478    0.904076    3.731669   -0.774561   -0.257508    3.162328   \n",
       "1    7.658829    0.394204    4.965978   -1.697999   -5.026532   -5.289657   \n",
       "2    0.340133   -1.597132    0.226364   -1.705865   -3.205529   -1.523400   \n",
       "3    2.533133   -1.129123   -0.336779   -2.188710   -2.068314    2.333132   \n",
       "4   -0.114119   -1.221991    6.340711   -0.011839   -6.358787   -2.466997   \n",
       "\n",
       "   64557 flow  50278 flow  15553 flow  88832 flow  \n",
       "0   -0.047864    0.623058    0.329819    0.232555  \n",
       "1    2.423657  -10.043329    4.213098   -0.854005  \n",
       "2    0.293756   -1.155403   -0.594859    1.080668  \n",
       "3   -1.148651    2.912813    0.501317    0.360467  \n",
       "4   -0.485223    1.524124    0.556544    0.623206  \n",
       "\n",
       "[5 rows x 201 columns]"
      ]
     },
     "execution_count": 5,
     "metadata": {},
     "output_type": "execute_result"
    }
   ],
   "source": [
    "df = pd.merge(return_df,flow_df)\n",
    "merge_data = df\n",
    "merge_data.head()"
   ]
  },
  {
   "cell_type": "code",
   "execution_count": 6,
   "metadata": {},
   "outputs": [
    {
     "data": {
      "text/html": [
       "<div>\n",
       "<style scoped>\n",
       "    .dataframe tbody tr th:only-of-type {\n",
       "        vertical-align: middle;\n",
       "    }\n",
       "\n",
       "    .dataframe tbody tr th {\n",
       "        vertical-align: top;\n",
       "    }\n",
       "\n",
       "    .dataframe thead th {\n",
       "        text-align: right;\n",
       "    }\n",
       "</style>\n",
       "<table border=\"1\" class=\"dataframe\">\n",
       "  <thead>\n",
       "    <tr style=\"text-align: right;\">\n",
       "      <th></th>\n",
       "      <th>Dates</th>\n",
       "      <th>50286 return</th>\n",
       "      <th>91804 return</th>\n",
       "      <th>10401 return</th>\n",
       "      <th>58501 return</th>\n",
       "      <th>60097 return</th>\n",
       "      <th>10363 return</th>\n",
       "      <th>41726 return</th>\n",
       "      <th>25080 return</th>\n",
       "      <th>30402 return</th>\n",
       "      <th>...</th>\n",
       "      <th>65365 flow</th>\n",
       "      <th>27748 flow</th>\n",
       "      <th>19350 flow</th>\n",
       "      <th>75823 flow</th>\n",
       "      <th>22840 flow</th>\n",
       "      <th>17750 flow</th>\n",
       "      <th>64557 flow</th>\n",
       "      <th>50278 flow</th>\n",
       "      <th>15553 flow</th>\n",
       "      <th>88832 flow</th>\n",
       "    </tr>\n",
       "  </thead>\n",
       "  <tbody>\n",
       "    <tr>\n",
       "      <td>1953</td>\n",
       "      <td>2000-12-22</td>\n",
       "      <td>0.042222</td>\n",
       "      <td>0.007353</td>\n",
       "      <td>0.043956</td>\n",
       "      <td>0.107692</td>\n",
       "      <td>0.049661</td>\n",
       "      <td>-0.050000</td>\n",
       "      <td>0.016051</td>\n",
       "      <td>0.025641</td>\n",
       "      <td>0.056338</td>\n",
       "      <td>...</td>\n",
       "      <td>-0.199335</td>\n",
       "      <td>0.115186</td>\n",
       "      <td>4.684013</td>\n",
       "      <td>-5.628148</td>\n",
       "      <td>1.021970</td>\n",
       "      <td>1.393392</td>\n",
       "      <td>-0.800745</td>\n",
       "      <td>-4.050510</td>\n",
       "      <td>-1.284210</td>\n",
       "      <td>-10.919585</td>\n",
       "    </tr>\n",
       "    <tr>\n",
       "      <td>1954</td>\n",
       "      <td>2000-12-26</td>\n",
       "      <td>-0.027719</td>\n",
       "      <td>0.040146</td>\n",
       "      <td>-0.010526</td>\n",
       "      <td>-0.083333</td>\n",
       "      <td>0.015054</td>\n",
       "      <td>0.000000</td>\n",
       "      <td>0.012638</td>\n",
       "      <td>0.025000</td>\n",
       "      <td>-0.060000</td>\n",
       "      <td>...</td>\n",
       "      <td>-0.176388</td>\n",
       "      <td>0.226673</td>\n",
       "      <td>1.901100</td>\n",
       "      <td>1.398325</td>\n",
       "      <td>2.634517</td>\n",
       "      <td>-0.021672</td>\n",
       "      <td>1.040802</td>\n",
       "      <td>-11.314789</td>\n",
       "      <td>0.867471</td>\n",
       "      <td>3.441675</td>\n",
       "    </tr>\n",
       "    <tr>\n",
       "      <td>1955</td>\n",
       "      <td>2000-12-27</td>\n",
       "      <td>0.024123</td>\n",
       "      <td>0.035088</td>\n",
       "      <td>-0.029787</td>\n",
       "      <td>-0.045455</td>\n",
       "      <td>0.033898</td>\n",
       "      <td>0.052632</td>\n",
       "      <td>0.073323</td>\n",
       "      <td>0.042683</td>\n",
       "      <td>0.063830</td>\n",
       "      <td>...</td>\n",
       "      <td>0.646028</td>\n",
       "      <td>-0.120893</td>\n",
       "      <td>2.032607</td>\n",
       "      <td>-5.510283</td>\n",
       "      <td>1.174721</td>\n",
       "      <td>0.770395</td>\n",
       "      <td>2.726246</td>\n",
       "      <td>-9.453309</td>\n",
       "      <td>-1.914385</td>\n",
       "      <td>-4.199699</td>\n",
       "    </tr>\n",
       "    <tr>\n",
       "      <td>1956</td>\n",
       "      <td>2000-12-28</td>\n",
       "      <td>0.049251</td>\n",
       "      <td>0.071186</td>\n",
       "      <td>-0.007326</td>\n",
       "      <td>-0.015873</td>\n",
       "      <td>0.000000</td>\n",
       "      <td>-0.050000</td>\n",
       "      <td>0.015988</td>\n",
       "      <td>0.000000</td>\n",
       "      <td>-0.020000</td>\n",
       "      <td>...</td>\n",
       "      <td>-6.532637</td>\n",
       "      <td>-0.133281</td>\n",
       "      <td>-0.145316</td>\n",
       "      <td>10.869903</td>\n",
       "      <td>6.412388</td>\n",
       "      <td>0.549168</td>\n",
       "      <td>8.232319</td>\n",
       "      <td>-7.484915</td>\n",
       "      <td>-1.920007</td>\n",
       "      <td>7.565088</td>\n",
       "    </tr>\n",
       "    <tr>\n",
       "      <td>1957</td>\n",
       "      <td>2000-12-29</td>\n",
       "      <td>-0.026531</td>\n",
       "      <td>-0.066456</td>\n",
       "      <td>0.018450</td>\n",
       "      <td>0.112903</td>\n",
       "      <td>-0.010246</td>\n",
       "      <td>0.105263</td>\n",
       "      <td>-0.027182</td>\n",
       "      <td>0.017544</td>\n",
       "      <td>0.088435</td>\n",
       "      <td>...</td>\n",
       "      <td>-1.438236</td>\n",
       "      <td>1.087321</td>\n",
       "      <td>-1.743204</td>\n",
       "      <td>3.688079</td>\n",
       "      <td>2.898397</td>\n",
       "      <td>0.752422</td>\n",
       "      <td>-6.696065</td>\n",
       "      <td>12.817672</td>\n",
       "      <td>0.858047</td>\n",
       "      <td>-5.529854</td>\n",
       "    </tr>\n",
       "  </tbody>\n",
       "</table>\n",
       "<p>5 rows × 201 columns</p>\n",
       "</div>"
      ],
      "text/plain": [
       "          Dates  50286 return  91804 return  10401 return  58501 return  \\\n",
       "1953 2000-12-22      0.042222      0.007353      0.043956      0.107692   \n",
       "1954 2000-12-26     -0.027719      0.040146     -0.010526     -0.083333   \n",
       "1955 2000-12-27      0.024123      0.035088     -0.029787     -0.045455   \n",
       "1956 2000-12-28      0.049251      0.071186     -0.007326     -0.015873   \n",
       "1957 2000-12-29     -0.026531     -0.066456      0.018450      0.112903   \n",
       "\n",
       "      60097 return  10363 return  41726 return  25080 return  30402 return  \\\n",
       "1953      0.049661     -0.050000      0.016051      0.025641      0.056338   \n",
       "1954      0.015054      0.000000      0.012638      0.025000     -0.060000   \n",
       "1955      0.033898      0.052632      0.073323      0.042683      0.063830   \n",
       "1956      0.000000     -0.050000      0.015988      0.000000     -0.020000   \n",
       "1957     -0.010246      0.105263     -0.027182      0.017544      0.088435   \n",
       "\n",
       "      ...  65365 flow  27748 flow  19350 flow  75823 flow  22840 flow  \\\n",
       "1953  ...   -0.199335    0.115186    4.684013   -5.628148    1.021970   \n",
       "1954  ...   -0.176388    0.226673    1.901100    1.398325    2.634517   \n",
       "1955  ...    0.646028   -0.120893    2.032607   -5.510283    1.174721   \n",
       "1956  ...   -6.532637   -0.133281   -0.145316   10.869903    6.412388   \n",
       "1957  ...   -1.438236    1.087321   -1.743204    3.688079    2.898397   \n",
       "\n",
       "      17750 flow  64557 flow  50278 flow  15553 flow  88832 flow  \n",
       "1953    1.393392   -0.800745   -4.050510   -1.284210  -10.919585  \n",
       "1954   -0.021672    1.040802  -11.314789    0.867471    3.441675  \n",
       "1955    0.770395    2.726246   -9.453309   -1.914385   -4.199699  \n",
       "1956    0.549168    8.232319   -7.484915   -1.920007    7.565088  \n",
       "1957    0.752422   -6.696065   12.817672    0.858047   -5.529854  \n",
       "\n",
       "[5 rows x 201 columns]"
      ]
     },
     "execution_count": 6,
     "metadata": {},
     "output_type": "execute_result"
    }
   ],
   "source": [
    "from dateutil.parser import parse\n",
    "merge_data['Dates'] = pd.to_datetime(merge_data['Dates'].astype(str), format='%Y%m%d')\n",
    "merge_data.tail()"
   ]
  },
  {
   "cell_type": "code",
   "execution_count": 7,
   "metadata": {},
   "outputs": [],
   "source": [
    "df = merge_data"
   ]
  },
  {
   "cell_type": "markdown",
   "metadata": {},
   "source": [
    "## Linear Regression"
   ]
  },
  {
   "cell_type": "code",
   "execution_count": 8,
   "metadata": {},
   "outputs": [],
   "source": [
    "def ols(ticker, window):\n",
    "    l1ri = df[ticker+\" return\"].shift(1)\n",
    "    l2ri = df[ticker+\" return\"].shift(2)\n",
    "    l3ri = df[ticker+\" return\"].shift(3)\n",
    "    l1fi = df[ticker+\" flow\"].shift(1)\n",
    "    l2fi = df[ticker+\" flow\"].shift(2)\n",
    "    l3fi = df[ticker+\" flow\"].shift(3)\n",
    "    y = df[ticker+\" return\"]\n",
    "    data = pd.DataFrame({\"Dates\":df[\"Dates\"],\"y\":y,\"r1\":l1ri,\"r2\":l2ri,\"r3\":l3ri,\"f1\":l1fi,\"f2\":l2fi,\"f3\":l3fi}).dropna()\n",
    "    variables=[x for x in data.columns if 'r' in x or 'f' in x]\n",
    "    size = len(data)\n",
    "    pred = []\n",
    "    se = []\n",
    "    test = []\n",
    "    crmse = []\n",
    "    # Rolling windows\n",
    "    for i in range(size-window-1):\n",
    "        train_y = data[\"y\"][i:i+window+1]\n",
    "        test_y = data[\"y\"][i+window+1:i+window+2].values[0]\n",
    "        train_X = data[variables][i:i+window+1]\n",
    "        test_X = data[variables][i+window+1:i+window+2]\n",
    "        model = sm.OLS(train_y,train_X)\n",
    "        res = model.fit()\n",
    "        predi = res.predict(test_X).values[0]\n",
    "        sei = (test_y-predi)**2\n",
    "        pred.append(predi)\n",
    "        se.append(sei)\n",
    "        test.append(test_y)\n",
    "    r_squared = 1-(sum(se)/(st.variance(test)*len(test)))\n",
    "    return se, pred, r_squared"
   ]
  },
  {
   "cell_type": "code",
   "execution_count": 9,
   "metadata": {},
   "outputs": [
    {
     "name": "stdout",
     "output_type": "stream",
     "text": [
      "-0.1563730938989225\n"
     ]
    }
   ],
   "source": [
    "print(ols(\"50286\", 50)[2])"
   ]
  },
  {
   "cell_type": "markdown",
   "metadata": {},
   "source": [
    "## Historical Mean"
   ]
  },
  {
   "cell_type": "code",
   "execution_count": 10,
   "metadata": {},
   "outputs": [],
   "source": [
    "def hm(ticker, window):\n",
    "    pred = df[ticker + \" return\"].rolling(window).mean()[window+4:].values\n",
    "    real = df[ticker + \" return\"][window+4:].values \n",
    "    se = (pred-real)**2\n",
    "    rmse = math.sqrt(sum(se)/len(se))\n",
    "    r_squared = 1-(sum(se)/(st.variance(real)*len(real)))\n",
    "    return rmse, pred, r_squared\n",
    "    "
   ]
  },
  {
   "cell_type": "code",
   "execution_count": 11,
   "metadata": {},
   "outputs": [
    {
     "name": "stdout",
     "output_type": "stream",
     "text": [
      "-0.019423130697571178\n",
      "-----------------------\n",
      "0.005189500749988918\n"
     ]
    }
   ],
   "source": [
    "print(ols(\"50286\", 200)[2])\n",
    "print(\"-----------------------\")\n",
    "print(hm(\"50286\", 200)[2])"
   ]
  },
  {
   "cell_type": "markdown",
   "metadata": {},
   "source": [
    "## Plot cumulative RMSE for OLS with different window size"
   ]
  },
  {
   "cell_type": "code",
   "execution_count": 15,
   "metadata": {},
   "outputs": [
    {
     "data": {
      "application/vnd.jupyter.widget-view+json": {
       "model_id": "bcd86fe4f49c4c3a8d4a4c161b82213b",
       "version_major": 2,
       "version_minor": 0
      },
      "text/plain": [
       "HBox(children=(IntProgress(value=0, max=7), HTML(value='')))"
      ]
     },
     "metadata": {},
     "output_type": "display_data"
    },
    {
     "name": "stdout",
     "output_type": "stream",
     "text": [
      "\n"
     ]
    },
    {
     "data": {
      "text/plain": [
       "<Figure size 1000x800 with 1 Axes>"
      ]
     },
     "metadata": {},
     "output_type": "display_data"
    }
   ],
   "source": [
    "from tqdm.notebook import tqdm\n",
    "import matplotlib.pyplot as plt\n",
    "fig, ax = plt.subplots(figsize=(10,8))\n",
    "\n",
    "#Window size\n",
    "for i in tqdm([30,60,90,120,150,180,210]):\n",
    "    cum_rmse1=[]\n",
    "    crmse1=0\n",
    "    for ticker in tickers:\n",
    "        crmse1+=ols(ticker, i)[0]\n",
    "        cum_rmse1.append(crmse1) \n",
    "    ax.plot(range(len(tickers)), cum_rmse1, label=\"w = \"+str(i))\n",
    "ax.legend(loc = 'best')\n",
    "ax.set_ylabel('Cumulative RMSE for OLS')\n",
    "ax.set_xlabel('Number of stocks')\n",
    "plt.show()"
   ]
  },
  {
   "cell_type": "markdown",
   "metadata": {},
   "source": [
    "## Plot cumulative RMSE for historical means with different window size"
   ]
  },
  {
   "cell_type": "code",
   "execution_count": 57,
   "metadata": {},
   "outputs": [
    {
     "data": {
      "application/vnd.jupyter.widget-view+json": {
       "model_id": "4cc936ce8dc448d299a482cfe5254166",
       "version_major": 2,
       "version_minor": 0
      },
      "text/plain": [
       "HBox(children=(FloatProgress(value=0.0, max=7.0), HTML(value='')))"
      ]
     },
     "metadata": {},
     "output_type": "display_data"
    },
    {
     "name": "stdout",
     "output_type": "stream",
     "text": [
      "\n"
     ]
    },
    {
     "data": {
      "image/png": "[encoded data removed]",
      "text/plain": [
       "<Figure size 720x576 with 1 Axes>"
      ]
     },
     "metadata": {
      "needs_background": "light"
     },
     "output_type": "display_data"
    }
   ],
   "source": [
    "from tqdm.notebook import tqdm\n",
    "fig, ax = plt.subplots(figsize=(10,8))\n",
    "for i in tqdm([30,60,90,120,150,180,210]):\n",
    "    cum_rmse2=[]\n",
    "    crmse2=0\n",
    "    for ticker in tickers:\n",
    "        crmse2+=hm(ticker, i)[0]\n",
    "        cum_rmse2.append(crmse2) \n",
    "    ax.plot(range(len(tickers)), cum_rmse2, label=\"w = \"+str(i))\n",
    "ax.legend(loc = 'best')\n",
    "ax.set_ylabel('Cumulative RMSE for historical means')\n",
    "ax.set_xlabel('Number of stocks')\n",
    "plt.show()"
   ]
  },
  {
   "cell_type": "markdown",
   "metadata": {},
   "source": [
    "## Choose window size = 210 :"
   ]
  },
  {
   "cell_type": "code",
   "execution_count": 58,
   "metadata": {},
   "outputs": [
    {
     "data": {
      "application/vnd.jupyter.widget-view+json": {
       "model_id": "f2b4ab5554b74951b81987031898dd6b",
       "version_major": 2,
       "version_minor": 0
      },
      "text/plain": [
       "HBox(children=(FloatProgress(value=0.0), HTML(value='')))"
      ]
     },
     "metadata": {},
     "output_type": "display_data"
    },
    {
     "name": "stdout",
     "output_type": "stream",
     "text": [
      "\n"
     ]
    }
   ],
   "source": [
    "from tqdm.notebook import tqdm\n",
    "cum_rmse1=[]\n",
    "cum_rmse2=[]\n",
    "crmse1=0\n",
    "crmse2=0\n",
    "for ticker in tqdm(tickers):\n",
    "    crmse1+=ols(ticker,210)[0]\n",
    "    cum_rmse1.append(crmse1) \n",
    "    crmse2+=hm(ticker,210)[0]\n",
    "    cum_rmse2.append(crmse2) "
   ]
  },
  {
   "cell_type": "markdown",
   "metadata": {},
   "source": [
    "## Plot cumulative RMSE differential"
   ]
  },
  {
   "cell_type": "code",
   "execution_count": 59,
   "metadata": {},
   "outputs": [
    {
     "data": {
      "image/png": "[encoded data removed]",
      "text/plain": [
       "<Figure size 720x576 with 1 Axes>"
      ]
     },
     "metadata": {
      "needs_background": "light"
     },
     "output_type": "display_data"
    }
   ],
   "source": [
    "fig, ax = plt.subplots(figsize=(10,8))\n",
    "ax.plot(range(len(tickers)), np.subtract(cum_rmse2, cum_rmse1), label=\"Historical mean - OLS\")\n",
    "ax.legend(loc = 'best')\n",
    "ax.set_ylabel('Cumulative RMSE')\n",
    "ax.set_xlabel('Number of stocks')\n",
    "plt.show()"
   ]
  },
  {
   "cell_type": "markdown",
   "metadata": {},
   "source": [
    "## Out of sample R-squared"
   ]
  },
  {
   "cell_type": "code",
   "execution_count": 67,
   "metadata": {},
   "outputs": [
    {
     "data": {
      "image/png": "[encoded data removed]",
      "text/plain": [
       "<Figure size 720x576 with 1 Axes>"
      ]
     },
     "metadata": {
      "needs_background": "light"
     },
     "output_type": "display_data"
    }
   ],
   "source": [
    "fig, ax = plt.subplots(figsize = (10,8))\n",
    "ax.scatter(tickers,[ols(ticker, 210)[2] for ticker in tickers], label = \"OLS\")\n",
    "ax.scatter(tickers,[hm(ticker, 210)[2] for ticker in tickers], label = \"Historical Mean\")\n",
    "ax.set_ylabel('Out of Sample R squared')\n",
    "ax.set_xlabel('ticker')\n",
    "ax.legend(loc = 'best')\n",
    "plt.show()"
   ]
  },
  {
   "cell_type": "markdown",
   "metadata": {},
   "source": [
    "# Other Model Prediction 问题部分\n"
   ]
  },
  {
   "cell_type": "markdown",
   "metadata": {},
   "source": [
    "##  Split the data: Training set and Hold out test set"
   ]
  },
  {
   "cell_type": "code",
   "execution_count": 12,
   "metadata": {},
   "outputs": [],
   "source": [
    "from sklearn.model_selection import TimeSeriesSplit, GridSearchCV\n",
    "import matplotlib.pyplot as plt\n",
    "import warnings\n",
    "from pandas.core.common import SettingWithCopyWarning\n",
    "from tqdm.notebook import tqdm\n",
    "warnings.simplefilter(action=\"ignore\", category=SettingWithCopyWarning)\n",
    "import os"
   ]
  },
  {
   "cell_type": "code",
   "execution_count": 14,
   "metadata": {},
   "outputs": [
    {
     "data": {
      "image/png": "[encoded data removed]",
      "text/plain": [
       "<Figure size 720x576 with 1 Axes>"
      ]
     },
     "metadata": {
      "needs_background": "light"
     },
     "output_type": "display_data"
    }
   ],
   "source": [
    "#And the parameter grid over which to optimize\n",
    "param_grid = [{'lasso__alpha': np.logspace(4, 0, 50)}]\n",
    "\n",
    "fig, ax = plt.subplots(figsize=(10,8))\n",
    "x = range(len(param_grid[0]['lasso__alpha']))\n",
    "ax.plot(x, param_grid[0]['lasso__alpha'], label = 'Training Set')\n",
    "ax.set_ylabel('Penalty Term')\n",
    "ax.set_xlabel('Iteration Number')\n",
    "ax.set_title('Penalty term values')\n",
    "plt.show()"
   ]
  },
  {
   "cell_type": "code",
   "execution_count": 52,
   "metadata": {},
   "outputs": [],
   "source": [
    "hold_out_test = merge_data[merge_data['Dates'].dt.year>= t] #我要取一个 rolling window(100) 长度为t 橙色部分为t+1 的切分 \n",
    "training_set =  merge_data[merge_data['Dates'].dt.year< t]"
   ]
  },
  {
   "cell_type": "code",
   "execution_count": 72,
   "metadata": {},
   "outputs": [
    {
     "data": {
      "image/png": "[encoded data removed]",
      "text/plain": [
       "<Figure size 720x576 with 1 Axes>"
      ]
     },
     "metadata": {
      "needs_background": "light"
     },
     "output_type": "display_data"
    }
   ],
   "source": [
    "fig, ax = plt.subplots(figsize=(10,8))\n",
    "ax.plot(training_set['Dates'], training_set['50286'+\" return\"], label = 'Training Set') \n",
    "ax.plot(hold_out_test['Dates'], hold_out_test['50286'+\" return\"], label ='Hold Out Test Set')\n",
    "ax.set_ylabel('Usage')\n",
    "ax.set_xlabel('Date')\n",
    "ax.set_title('Usage per day')\n",
    "ax.legend(loc='best')\n",
    "plt.show()"
   ]
  },
  {
   "cell_type": "code",
   "execution_count": 16,
   "metadata": {},
   "outputs": [],
   "source": [
    "from sklearn.metrics import r2_score\n",
    "tscv = TimeSeriesSplit(max_train_size=None, n_splits=5)\n"
   ]
  },
  {
   "cell_type": "markdown",
   "metadata": {},
   "source": [
    "## Training in Lasso"
   ]
  },
  {
   "cell_type": "code",
   "execution_count": null,
   "metadata": {},
   "outputs": [],
   "source": [
    "def ols(ticker, window):                # 这个是我在OLS当中取window的做法，在这里好像不太行 我就删掉了\n",
    "    l1ri = df[ticker+\" return\"].shift(1)\n",
    "    l2ri = df[ticker+\" return\"].shift(2)\n",
    "    l3ri = df[ticker+\" return\"].shift(3)\n",
    "    l1fi = df[ticker+\" flow\"].shift(1)\n",
    "    l2fi = df[ticker+\" flow\"].shift(2)\n",
    "    l3fi = df[ticker+\" flow\"].shift(3)\n",
    "    y = df[ticker+\" return\"]\n",
    "    data = pd.DataFrame({\"Dates\":df[\"Dates\"],\"y\":y,\"r1\":l1ri,\"r2\":l2ri,\"r3\":l3ri,\"f1\":l1fi,\"f2\":l2fi,\"f3\":l3fi}).dropna()\n",
    "    variables=[x for x in data.columns if 'r' in x or 'f' in x]\n",
    "    size = len(data)\n",
    "    pred = []\n",
    "    se = []\n",
    "    test = []\n",
    "    crmse = []\n",
    "    # Rolling windows\n",
    "    for i in range(size-window-1):\n",
    "        train_y = data[\"y\"][i:i+window+1]\n",
    "        test_y = data[\"y\"][i+window+1:i+window+2].values[0]\n",
    "        train_X = data[variables][i:i+window+1]\n",
    "        test_X = data[variables][i+window+1:i+window+2]"
   ]
  },
  {
   "cell_type": "code",
   "execution_count": 89,
   "metadata": {},
   "outputs": [],
   "source": [
    "#Independant Variables\n",
    "variables=[x for x in data.columns if 'r' in x or 'f' in x]\n",
    "\n",
    "#Dependant Variable\n",
    "outcome_varaiable= df['50286'+\" return\"]"
   ]
  },
  {
   "cell_type": "code",
   "execution_count": 17,
   "metadata": {},
   "outputs": [
    {
     "data": {
      "application/vnd.jupyter.widget-view+json": {
       "model_id": "a798aa40d91c4ef096d4fac9985abe89",
       "version_major": 2,
       "version_minor": 0
      },
      "text/plain": [
       "HBox(children=(IntProgress(value=0, max=50), HTML(value='')))"
      ]
     },
     "metadata": {},
     "output_type": "display_data"
    },
    {
     "name": "stdout",
     "output_type": "stream",
     "text": [
      "\n"
     ]
    },
    {
     "ename": "NameError",
     "evalue": "name 'training_set' is not defined",
     "output_type": "error",
     "traceback": [
      "\u001b[1;31m---------------------------------------------------------------------------\u001b[0m",
      "\u001b[1;31mNameError\u001b[0m                                 Traceback (most recent call last)",
      "\u001b[1;32m<ipython-input-17-5f5669124597>\u001b[0m in \u001b[0;36m<module>\u001b[1;34m\u001b[0m\n\u001b[0;32m      2\u001b[0m \u001b[1;32mfor\u001b[0m \u001b[0malpha\u001b[0m \u001b[1;32min\u001b[0m \u001b[0mtqdm\u001b[0m\u001b[1;33m(\u001b[0m\u001b[0mparam_grid\u001b[0m\u001b[1;33m[\u001b[0m\u001b[1;36m0\u001b[0m\u001b[1;33m]\u001b[0m\u001b[1;33m[\u001b[0m\u001b[1;34m'lasso__alpha'\u001b[0m\u001b[1;33m]\u001b[0m\u001b[1;33m)\u001b[0m\u001b[1;33m:\u001b[0m\u001b[1;33m\u001b[0m\u001b[1;33m\u001b[0m\u001b[0m\n\u001b[0;32m      3\u001b[0m     \u001b[0mcv_scores\u001b[0m \u001b[1;33m=\u001b[0m \u001b[1;33m[\u001b[0m\u001b[1;33m]\u001b[0m\u001b[1;33m\u001b[0m\u001b[1;33m\u001b[0m\u001b[0m\n\u001b[1;32m----> 4\u001b[1;33m     \u001b[1;32mfor\u001b[0m \u001b[0mtrain_index\u001b[0m\u001b[1;33m,\u001b[0m \u001b[0mtest_index\u001b[0m \u001b[1;32min\u001b[0m \u001b[0mtscv\u001b[0m\u001b[1;33m.\u001b[0m\u001b[0msplit\u001b[0m\u001b[1;33m(\u001b[0m\u001b[0mtraining_set\u001b[0m\u001b[1;33m)\u001b[0m\u001b[1;33m:\u001b[0m\u001b[1;33m\u001b[0m\u001b[1;33m\u001b[0m\u001b[0m\n\u001b[0m\u001b[0;32m      5\u001b[0m \u001b[1;33m\u001b[0m\u001b[0m\n\u001b[0;32m      6\u001b[0m         \u001b[1;31m#Define the training and validation sets\u001b[0m\u001b[1;33m\u001b[0m\u001b[1;33m\u001b[0m\u001b[1;33m\u001b[0m\u001b[0m\n",
      "\u001b[1;31mNameError\u001b[0m: name 'training_set' is not defined"
     ]
    }
   ],
   "source": [
    "scores = []           #我只要能切割好数据集 选出一个最佳的Penalty 再带入就行了\n",
    "for alpha in tqdm(param_grid[0]['lasso__alpha']): \n",
    "    cv_scores = []\n",
    "    for train_index, test_index in tscv.split(training_set):\n",
    "        \n",
    "        #Define the training and validation sets\n",
    "        df_train = training_set.iloc[train_index]\n",
    "        df_validation = training_set.iloc[test_index]\n",
    "        X_train, y_train = df_train[variables], df_train[outcome_varaiable]\n",
    "        X_validation, y_validation = df_validation[variables], df_validation[outcome_varaiable]\n",
    "\n",
    "        #Rescale the data by the training set\n",
    "        scaler = StandardScaler()\n",
    "        X_train = scaler.fit_transform(X_train)\n",
    "        X_validation = scaler.transform(X_validation)\n",
    "        \n",
    "        #Traing the model with the penalty term\n",
    "        model_type = Lasso(alpha =alpha, max_iter = 100000)\n",
    "        model = model_type.fit(X_train, y_train)    \n",
    "\n",
    "        #Record the score for that fold\n",
    "        validation_score = model.score(X_validation,y_validation)\n",
    "        cv_scores.append(validation_score)\n",
    "    \n",
    "    #Average the CV scores and record\n",
    "    scores.append([alpha, np.average(cv_scores)])"
   ]
  },
  {
   "cell_type": "code",
   "execution_count": null,
   "metadata": {},
   "outputs": [],
   "source": [
    "sorted_scores = sorted(scores, key=lambda tup: tup[1])\n",
    "print('Best Penalty Term: '+str(sorted_scores[-1][0])+'\\nScore: '+str(sorted_scores[-1][1]))"
   ]
  },
  {
   "cell_type": "code",
   "execution_count": null,
   "metadata": {},
   "outputs": [],
   "source": [
    "logistic_lasso= LogisticRegressionCV(Cs = sorted_scores[-1][1], penalty = 'l1', solver = 'liblinear', )\n",
    "model = model_type.fit(X_train, y_train) \n",
    "validation_score = model.score(X_validation,y_validation)\n",
    "cv_scores.append(validation_score)"
   ]
  },
  {
   "cell_type": "code",
   "execution_count": null,
   "metadata": {},
   "outputs": [],
   "source": []
  },
  {
   "cell_type": "code",
   "execution_count": null,
   "metadata": {},
   "outputs": [],
   "source": []
  },
  {
   "cell_type": "markdown",
   "metadata": {},
   "source": [
    "## Training in Random Forest\n"
   ]
  },
  {
   "cell_type": "code",
   "execution_count": 95,
   "metadata": {},
   "outputs": [
    {
     "ename": "ModuleNotFoundError",
     "evalue": "No module named 'graphviz'",
     "output_type": "error",
     "traceback": [
      "\u001b[1;31m---------------------------------------------------------------------------\u001b[0m",
      "\u001b[1;31mModuleNotFoundError\u001b[0m                       Traceback (most recent call last)",
      "\u001b[1;32m<ipython-input-95-bd47d91e358e>\u001b[0m in \u001b[0;36m<module>\u001b[1;34m\u001b[0m\n\u001b[0;32m      4\u001b[0m \u001b[1;32mfrom\u001b[0m \u001b[0mIPython\u001b[0m\u001b[1;33m.\u001b[0m\u001b[0mdisplay\u001b[0m \u001b[1;32mimport\u001b[0m \u001b[0mSVG\u001b[0m\u001b[1;33m\u001b[0m\u001b[1;33m\u001b[0m\u001b[0m\n\u001b[0;32m      5\u001b[0m \u001b[1;32mfrom\u001b[0m \u001b[0msklearn\u001b[0m \u001b[1;32mimport\u001b[0m \u001b[0mtree\u001b[0m\u001b[1;33m\u001b[0m\u001b[1;33m\u001b[0m\u001b[0m\n\u001b[1;32m----> 6\u001b[1;33m \u001b[1;32mfrom\u001b[0m \u001b[0mgraphviz\u001b[0m \u001b[1;32mimport\u001b[0m \u001b[0mSource\u001b[0m\u001b[1;33m\u001b[0m\u001b[1;33m\u001b[0m\u001b[0m\n\u001b[0m",
      "\u001b[1;31mModuleNotFoundError\u001b[0m: No module named 'graphviz'"
     ]
    }
   ],
   "source": [
    "#conda install python-graphviz\n",
    "from sklearn.ensemble import RandomForestRegressor\n",
    "from sklearn.tree import DecisionTreeRegressor\n",
    "from IPython.display import SVG\n",
    "from sklearn import tree\n",
    "from graphviz import Source"
   ]
  },
  {
   "cell_type": "code",
   "execution_count": 96,
   "metadata": {},
   "outputs": [
    {
     "ename": "KeyError",
     "evalue": "'50286'",
     "output_type": "error",
     "traceback": [
      "\u001b[1;31m---------------------------------------------------------------------------\u001b[0m",
      "\u001b[1;31mKeyError\u001b[0m                                  Traceback (most recent call last)",
      "\u001b[1;32mD:\\ProgramFiles\\Anaconda\\lib\\site-packages\\pandas\\core\\indexes\\base.py\u001b[0m in \u001b[0;36mget_loc\u001b[1;34m(self, key, method, tolerance)\u001b[0m\n\u001b[0;32m   2896\u001b[0m             \u001b[1;32mtry\u001b[0m\u001b[1;33m:\u001b[0m\u001b[1;33m\u001b[0m\u001b[1;33m\u001b[0m\u001b[0m\n\u001b[1;32m-> 2897\u001b[1;33m                 \u001b[1;32mreturn\u001b[0m \u001b[0mself\u001b[0m\u001b[1;33m.\u001b[0m\u001b[0m_engine\u001b[0m\u001b[1;33m.\u001b[0m\u001b[0mget_loc\u001b[0m\u001b[1;33m(\u001b[0m\u001b[0mkey\u001b[0m\u001b[1;33m)\u001b[0m\u001b[1;33m\u001b[0m\u001b[1;33m\u001b[0m\u001b[0m\n\u001b[0m\u001b[0;32m   2898\u001b[0m             \u001b[1;32mexcept\u001b[0m \u001b[0mKeyError\u001b[0m\u001b[1;33m:\u001b[0m\u001b[1;33m\u001b[0m\u001b[1;33m\u001b[0m\u001b[0m\n",
      "\u001b[1;32mpandas\\_libs\\index.pyx\u001b[0m in \u001b[0;36mpandas._libs.index.IndexEngine.get_loc\u001b[1;34m()\u001b[0m\n",
      "\u001b[1;32mpandas\\_libs\\index.pyx\u001b[0m in \u001b[0;36mpandas._libs.index.IndexEngine.get_loc\u001b[1;34m()\u001b[0m\n",
      "\u001b[1;32mpandas\\_libs\\hashtable_class_helper.pxi\u001b[0m in \u001b[0;36mpandas._libs.hashtable.PyObjectHashTable.get_item\u001b[1;34m()\u001b[0m\n",
      "\u001b[1;32mpandas\\_libs\\hashtable_class_helper.pxi\u001b[0m in \u001b[0;36mpandas._libs.hashtable.PyObjectHashTable.get_item\u001b[1;34m()\u001b[0m\n",
      "\u001b[1;31mKeyError\u001b[0m: '50286'",
      "\nDuring handling of the above exception, another exception occurred:\n",
      "\u001b[1;31mKeyError\u001b[0m                                  Traceback (most recent call last)",
      "\u001b[1;32m<ipython-input-96-5a6eb24f9d78>\u001b[0m in \u001b[0;36m<module>\u001b[1;34m\u001b[0m\n\u001b[0;32m      1\u001b[0m \u001b[0mTree_Reg\u001b[0m \u001b[1;33m=\u001b[0m \u001b[0mDecisionTreeRegressor\u001b[0m\u001b[1;33m(\u001b[0m\u001b[0mmax_depth\u001b[0m \u001b[1;33m=\u001b[0m \u001b[1;36m6\u001b[0m\u001b[1;33m)\u001b[0m\u001b[1;33m\u001b[0m\u001b[1;33m\u001b[0m\u001b[0m\n\u001b[1;32m----> 2\u001b[1;33m \u001b[0mTree_Reg\u001b[0m\u001b[1;33m.\u001b[0m\u001b[0mfit\u001b[0m\u001b[1;33m(\u001b[0m\u001b[0mtraining_set\u001b[0m\u001b[1;33m[\u001b[0m\u001b[0mvariables\u001b[0m\u001b[1;33m]\u001b[0m\u001b[1;33m,\u001b[0m \u001b[0mtraining_set\u001b[0m\u001b[1;33m[\u001b[0m\u001b[0moutcome_varaiable\u001b[0m\u001b[1;33m]\u001b[0m\u001b[1;33m)\u001b[0m\u001b[1;33m\u001b[0m\u001b[1;33m\u001b[0m\u001b[0m\n\u001b[0m\u001b[0;32m      3\u001b[0m \u001b[0mhold_out_test\u001b[0m\u001b[1;33m[\u001b[0m\u001b[1;34m'Prediction_tree'\u001b[0m\u001b[1;33m]\u001b[0m \u001b[1;33m=\u001b[0m \u001b[0mTree_Reg\u001b[0m\u001b[1;33m.\u001b[0m\u001b[0mpredict\u001b[0m\u001b[1;33m(\u001b[0m\u001b[0mhold_out_test\u001b[0m\u001b[1;33m[\u001b[0m\u001b[0mvariables\u001b[0m\u001b[1;33m]\u001b[0m\u001b[1;33m)\u001b[0m\u001b[1;33m\u001b[0m\u001b[1;33m\u001b[0m\u001b[0m\n",
      "\u001b[1;32mD:\\ProgramFiles\\Anaconda\\lib\\site-packages\\pandas\\core\\frame.py\u001b[0m in \u001b[0;36m__getitem__\u001b[1;34m(self, key)\u001b[0m\n\u001b[0;32m   2978\u001b[0m             \u001b[1;32mif\u001b[0m \u001b[0mself\u001b[0m\u001b[1;33m.\u001b[0m\u001b[0mcolumns\u001b[0m\u001b[1;33m.\u001b[0m\u001b[0mnlevels\u001b[0m \u001b[1;33m>\u001b[0m \u001b[1;36m1\u001b[0m\u001b[1;33m:\u001b[0m\u001b[1;33m\u001b[0m\u001b[1;33m\u001b[0m\u001b[0m\n\u001b[0;32m   2979\u001b[0m                 \u001b[1;32mreturn\u001b[0m \u001b[0mself\u001b[0m\u001b[1;33m.\u001b[0m\u001b[0m_getitem_multilevel\u001b[0m\u001b[1;33m(\u001b[0m\u001b[0mkey\u001b[0m\u001b[1;33m)\u001b[0m\u001b[1;33m\u001b[0m\u001b[1;33m\u001b[0m\u001b[0m\n\u001b[1;32m-> 2980\u001b[1;33m             \u001b[0mindexer\u001b[0m \u001b[1;33m=\u001b[0m \u001b[0mself\u001b[0m\u001b[1;33m.\u001b[0m\u001b[0mcolumns\u001b[0m\u001b[1;33m.\u001b[0m\u001b[0mget_loc\u001b[0m\u001b[1;33m(\u001b[0m\u001b[0mkey\u001b[0m\u001b[1;33m)\u001b[0m\u001b[1;33m\u001b[0m\u001b[1;33m\u001b[0m\u001b[0m\n\u001b[0m\u001b[0;32m   2981\u001b[0m             \u001b[1;32mif\u001b[0m \u001b[0mis_integer\u001b[0m\u001b[1;33m(\u001b[0m\u001b[0mindexer\u001b[0m\u001b[1;33m)\u001b[0m\u001b[1;33m:\u001b[0m\u001b[1;33m\u001b[0m\u001b[1;33m\u001b[0m\u001b[0m\n\u001b[0;32m   2982\u001b[0m                 \u001b[0mindexer\u001b[0m \u001b[1;33m=\u001b[0m \u001b[1;33m[\u001b[0m\u001b[0mindexer\u001b[0m\u001b[1;33m]\u001b[0m\u001b[1;33m\u001b[0m\u001b[1;33m\u001b[0m\u001b[0m\n",
      "\u001b[1;32mD:\\ProgramFiles\\Anaconda\\lib\\site-packages\\pandas\\core\\indexes\\base.py\u001b[0m in \u001b[0;36mget_loc\u001b[1;34m(self, key, method, tolerance)\u001b[0m\n\u001b[0;32m   2897\u001b[0m                 \u001b[1;32mreturn\u001b[0m \u001b[0mself\u001b[0m\u001b[1;33m.\u001b[0m\u001b[0m_engine\u001b[0m\u001b[1;33m.\u001b[0m\u001b[0mget_loc\u001b[0m\u001b[1;33m(\u001b[0m\u001b[0mkey\u001b[0m\u001b[1;33m)\u001b[0m\u001b[1;33m\u001b[0m\u001b[1;33m\u001b[0m\u001b[0m\n\u001b[0;32m   2898\u001b[0m             \u001b[1;32mexcept\u001b[0m \u001b[0mKeyError\u001b[0m\u001b[1;33m:\u001b[0m\u001b[1;33m\u001b[0m\u001b[1;33m\u001b[0m\u001b[0m\n\u001b[1;32m-> 2899\u001b[1;33m                 \u001b[1;32mreturn\u001b[0m \u001b[0mself\u001b[0m\u001b[1;33m.\u001b[0m\u001b[0m_engine\u001b[0m\u001b[1;33m.\u001b[0m\u001b[0mget_loc\u001b[0m\u001b[1;33m(\u001b[0m\u001b[0mself\u001b[0m\u001b[1;33m.\u001b[0m\u001b[0m_maybe_cast_indexer\u001b[0m\u001b[1;33m(\u001b[0m\u001b[0mkey\u001b[0m\u001b[1;33m)\u001b[0m\u001b[1;33m)\u001b[0m\u001b[1;33m\u001b[0m\u001b[1;33m\u001b[0m\u001b[0m\n\u001b[0m\u001b[0;32m   2900\u001b[0m         \u001b[0mindexer\u001b[0m \u001b[1;33m=\u001b[0m \u001b[0mself\u001b[0m\u001b[1;33m.\u001b[0m\u001b[0mget_indexer\u001b[0m\u001b[1;33m(\u001b[0m\u001b[1;33m[\u001b[0m\u001b[0mkey\u001b[0m\u001b[1;33m]\u001b[0m\u001b[1;33m,\u001b[0m \u001b[0mmethod\u001b[0m\u001b[1;33m=\u001b[0m\u001b[0mmethod\u001b[0m\u001b[1;33m,\u001b[0m \u001b[0mtolerance\u001b[0m\u001b[1;33m=\u001b[0m\u001b[0mtolerance\u001b[0m\u001b[1;33m)\u001b[0m\u001b[1;33m\u001b[0m\u001b[1;33m\u001b[0m\u001b[0m\n\u001b[0;32m   2901\u001b[0m         \u001b[1;32mif\u001b[0m \u001b[0mindexer\u001b[0m\u001b[1;33m.\u001b[0m\u001b[0mndim\u001b[0m \u001b[1;33m>\u001b[0m \u001b[1;36m1\u001b[0m \u001b[1;32mor\u001b[0m \u001b[0mindexer\u001b[0m\u001b[1;33m.\u001b[0m\u001b[0msize\u001b[0m \u001b[1;33m>\u001b[0m \u001b[1;36m1\u001b[0m\u001b[1;33m:\u001b[0m\u001b[1;33m\u001b[0m\u001b[1;33m\u001b[0m\u001b[0m\n",
      "\u001b[1;32mpandas\\_libs\\index.pyx\u001b[0m in \u001b[0;36mpandas._libs.index.IndexEngine.get_loc\u001b[1;34m()\u001b[0m\n",
      "\u001b[1;32mpandas\\_libs\\index.pyx\u001b[0m in \u001b[0;36mpandas._libs.index.IndexEngine.get_loc\u001b[1;34m()\u001b[0m\n",
      "\u001b[1;32mpandas\\_libs\\hashtable_class_helper.pxi\u001b[0m in \u001b[0;36mpandas._libs.hashtable.PyObjectHashTable.get_item\u001b[1;34m()\u001b[0m\n",
      "\u001b[1;32mpandas\\_libs\\hashtable_class_helper.pxi\u001b[0m in \u001b[0;36mpandas._libs.hashtable.PyObjectHashTable.get_item\u001b[1;34m()\u001b[0m\n",
      "\u001b[1;31mKeyError\u001b[0m: '50286'"
     ]
    }
   ],
   "source": [
    "Tree_Reg = DecisionTreeRegressor(max_depth = 6)\n",
    "Tree_Reg.fit(training_set[variables], training_set[outcome_varaiable])\n",
    "hold_out_test['Prediction_tree'] = Tree_Reg.predict(hold_out_test[variables])"
   ]
  },
  {
   "cell_type": "code",
   "execution_count": null,
   "metadata": {},
   "outputs": [],
   "source": [
    "graph = Source(tree.export_graphviz(Tree_Reg, out_file=None, feature_names=variables))\n",
    "SVG(graph.pipe(format='svg'))"
   ]
  },
  {
   "cell_type": "code",
   "execution_count": null,
   "metadata": {},
   "outputs": [],
   "source": [
    "# Instantiate model with 100 decision trees\n",
    "'''\n",
    "Note that:\n",
    "- n_estimators (i.e. number of tree)\n",
    "- max_features (i.e. the number of variables available to the regression trees)\n",
    "- max_depth (i.e. the max depth of the trees)\n",
    "Are ALL hyper parameters that you may want to optimize through cross validation\n",
    "'''\n",
    "rf = RandomForestRegressor(n_estimators = 100, max_features='auto', \n",
    "                           max_depth = 7, random_state = 809, n_jobs = -1)\n",
    "\n",
    "# Train the model on training data\n",
    "rf.fit(training_set[variables], training_set[outcome_varaiable])\n",
    "\n",
    "#Predict on the hold out set\n",
    "hold_out_test['Prediction_RF'] = rf.predict(hold_out_test[variables])"
   ]
  },
  {
   "cell_type": "code",
   "execution_count": null,
   "metadata": {},
   "outputs": [],
   "source": [
    "fig, (ax) = plt.subplots(nrows = 1, figsize=(10,8), sharex=True)\n",
    "ax.plot(hold_out_test['Date'], hold_out_test['AEP_MW'], label = 'Actual')\n",
    "ax.plot(hold_out_test['Date'], hold_out_test['Prediction_RF'], label = 'Prediction')\n",
    "ax.plot(hold_out_test['Date'], hold_out_test['Mean_Pred'], label = 'Mean Prediction')\n",
    "ax.set_title('MW Usage per day')\n",
    "ax.legend(loc='best')\n",
    "ax.set_ylabel('MW Usage')\n",
    "plt.show()"
   ]
  }
 ],
 "metadata": {
  "kernelspec": {
   "display_name": "Python 3",
   "language": "python",
   "name": "python3"
  },
  "language_info": {
   "codemirror_mode": {
    "name": "ipython",
    "version": 3
   },
   "file_extension": ".py",
   "mimetype": "text/x-python",
   "name": "python",
   "nbconvert_exporter": "python",
   "pygments_lexer": "ipython3",
   "version": "3.7.4"
  },
  "toc": {
   "base_numbering": 1,
   "nav_menu": {},
   "number_sections": true,
   "sideBar": true,
   "skip_h1_title": false,
   "title_cell": "Table of Contents",
   "title_sidebar": "Contents",
   "toc_cell": false,
   "toc_position": {
    "height": "calc(100% - 180px)",
    "left": "10px",
    "top": "150px",
    "width": "341.306px"
   },
   "toc_section_display": true,
   "toc_window_display": true
  },
  "varInspector": {
   "cols": {
    "lenName": 16,
    "lenType": 16,
    "lenVar": 40
   },
   "kernels_config": {
    "python": {
     "delete_cmd_postfix": "",
     "delete_cmd_prefix": "del ",
     "library": "var_list.py",
     "varRefreshCmd": "print(var_dic_list())"
    },
    "r": {
     "delete_cmd_postfix": ") ",
     "delete_cmd_prefix": "rm(",
     "library": "var_list.r",
     "varRefreshCmd": "cat(var_dic_list()) "
    }
   },
   "types_to_exclude": [
    "module",
    "function",
    "builtin_function_or_method",
    "instance",
    "_Feature"
   ],
   "window_display": false
  }
 },
 "nbformat": 4,
 "nbformat_minor": 2
}
